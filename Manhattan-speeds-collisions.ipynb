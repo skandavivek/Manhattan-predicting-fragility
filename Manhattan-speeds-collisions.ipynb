{
 "cells": [
  {
   "cell_type": "code",
   "execution_count": 1,
   "metadata": {},
   "outputs": [],
   "source": [
    "import osmnx as ox\n",
    "import pandas as pd\n",
    "from matplotlib import pyplot as plt\n",
    "import seaborn as sns\n",
    "import numpy as np\n",
    "import networkx as nx\n",
    "from sklearn.externals import joblib\n",
    "from sklearn.ensemble import RandomForestRegressor\n",
    "import scipy"
   ]
  },
  {
   "cell_type": "code",
   "execution_count": 2,
   "metadata": {},
   "outputs": [],
   "source": [
    "import os\n",
    "from sodapy import Socrata"
   ]
  },
  {
   "cell_type": "code",
   "execution_count": 3,
   "metadata": {},
   "outputs": [],
   "source": [
    "G = ox.graph_from_place('Manhattan Island, New York City, New York, USA', network_type='drive',simplify=True)\n"
   ]
  },
  {
   "cell_type": "code",
   "execution_count": 4,
   "metadata": {},
   "outputs": [],
   "source": [
    "#get relevant collisions & speeds data from 2018"
   ]
  },
  {
   "cell_type": "code",
   "execution_count": 4,
   "metadata": {},
   "outputs": [],
   "source": [
    "query = \"\"\"\n",
    "select *\n",
    "\n",
    "where\n",
    "date<'2019-01-01T00:00:00.000'\n",
    "and\n",
    "date>='2018-01-01T00:00:00.000'\n",
    "\n",
    "and\n",
    "borough='MANHATTAN'\n",
    "\n",
    "\n",
    "\n",
    "limit\n",
    "    50000000000\n",
    "\"\"\""
   ]
  },
  {
   "cell_type": "code",
   "execution_count": 5,
   "metadata": {},
   "outputs": [
    {
     "name": "stderr",
     "output_type": "stream",
     "text": [
      "WARNING:root:Requests made without an app_token will be subject to strict throttling limits.\n"
     ]
    }
   ],
   "source": [
    "#SQL querying collisions data from Socrata\n",
    "client = Socrata(\"data.cityofnewyork.us\", None)\n",
    "results = client.get(\"qiz3-axqb\", query=query)\n",
    "\n",
    "# Convert to pandas DataFrame\n",
    "results_df = pd.DataFrame.from_records(results)"
   ]
  },
  {
   "cell_type": "code",
   "execution_count": 6,
   "metadata": {},
   "outputs": [],
   "source": [
    "query = \"\"\"\n",
    "select *\n",
    "\n",
    "where\n",
    "data_as_of<'2019-01-01T00:00:00.000'\n",
    "and\n",
    "data_as_of>='2018-01-01T00:00:00.000'\n",
    "and\n",
    "borough='Manhattan'\n",
    "and\n",
    "speed is not null\n",
    "and\n",
    "link_points is not null\n",
    "\n",
    "\n",
    "limit\n",
    "    50000000000\n",
    "\"\"\""
   ]
  },
  {
   "cell_type": "code",
   "execution_count": null,
   "metadata": {},
   "outputs": [
    {
     "name": "stderr",
     "output_type": "stream",
     "text": [
      "WARNING:root:Requests made without an app_token will be subject to strict throttling limits.\n"
     ]
    }
   ],
   "source": [
    "#now for speeds data from Socrata again\n",
    "client = Socrata(\"data.cityofnewyork.us\", None)\n",
    "#results = client.get(\"i4gi-tjb9\", where=\"data_as_of='2017-10-19T06:58:30.000'\",limit=2000000)\n",
    "results = client.get(\"i4gi-tjb9\", query=query)\n",
    "\n",
    "# Convert to pandas DataFrame\n",
    "results_df2 = pd.DataFrame.from_records(results)"
   ]
  },
  {
   "cell_type": "code",
   "execution_count": null,
   "metadata": {},
   "outputs": [],
   "source": [
    "df_speeds=results_df2.copy()\n",
    "df_coll=results_df.copy()"
   ]
  },
  {
   "cell_type": "code",
   "execution_count": null,
   "metadata": {},
   "outputs": [],
   "source": [
    "#converting everything to proper date time format"
   ]
  },
  {
   "cell_type": "code",
   "execution_count": null,
   "metadata": {},
   "outputs": [],
   "source": [
    "df_coll['datetime']=pd.to_datetime(df_coll['date'].astype(str)+' '+df_coll['time'].astype(str))\n",
    "df_speeds['datetime']=pd.to_datetime(df_speeds['data_as_of'])"
   ]
  },
  {
   "cell_type": "code",
   "execution_count": null,
   "metadata": {},
   "outputs": [],
   "source": [
    "df_coll['hour']=df_coll['datetime'].dt.hour\n",
    "df_speeds['hour']=df_speeds['datetime'].dt.hour\n",
    "df_speeds['speed']=np.array(df_speeds['speed'].values,dtype=float)\n",
    "df_speeds=df_speeds.loc[df_speeds['speed']>0]"
   ]
  },
  {
   "cell_type": "code",
   "execution_count": null,
   "metadata": {},
   "outputs": [],
   "source": [
    "df_speeds['hm']=df_speeds['hour']*60+df_speeds['datetime'].dt.minute\n",
    "df_coll['hm']=df_coll['hour']*60+df_coll['datetime'].dt.minute\n",
    "df_coll['dateonly']=df_coll['datetime'].dt.date\n",
    "df_speeds['dateonly']=df_speeds['datetime'].dt.date\n",
    "df_speeds['weekday']=df_speeds['datetime'].dt.dayofweek\n",
    "df_coll['weekday']=df_coll['datetime'].dt.dayofweek\n"
   ]
  },
  {
   "cell_type": "code",
   "execution_count": null,
   "metadata": {},
   "outputs": [],
   "source": [
    "#Exploratory analysis to see if collision rate (collisions/hour) is correlated with speed"
   ]
  },
  {
   "cell_type": "code",
   "execution_count": 12,
   "metadata": {},
   "outputs": [
    {
     "data": {
      "text/plain": [
       "[<matplotlib.lines.Line2D at 0x23d912800f0>]"
      ]
     },
     "execution_count": 12,
     "metadata": {},
     "output_type": "execute_result"
    },
    {
     "data": {
      "image/png": "[encoded data removed]",
      "text/plain": [
       "<Figure size 432x288 with 1 Axes>"
      ]
     },
     "metadata": {
      "needs_background": "light"
     },
     "output_type": "display_data"
    }
   ],
   "source": [
    "plt.plot(df_coll.groupby(['hour']).size())\n"
   ]
  },
  {
   "cell_type": "code",
   "execution_count": 13,
   "metadata": {},
   "outputs": [
    {
     "data": {
      "text/plain": [
       "[<matplotlib.lines.Line2D at 0x23d7fe7ab70>]"
      ]
     },
     "execution_count": 13,
     "metadata": {},
     "output_type": "execute_result"
    },
    {
     "data": {
      "image/png": "[encoded data removed]",
      "text/plain": [
       "<Figure size 432x288 with 1 Axes>"
      ]
     },
     "metadata": {
      "needs_background": "light"
     },
     "output_type": "display_data"
    }
   ],
   "source": [
    "plt.plot(df_speeds.groupby(['hour'])['speed'].mean())"
   ]
  },
  {
   "cell_type": "code",
   "execution_count": 14,
   "metadata": {},
   "outputs": [
    {
     "data": {
      "text/plain": [
       "[<matplotlib.lines.Line2D at 0x23d7fea3dd8>]"
      ]
     },
     "execution_count": 14,
     "metadata": {},
     "output_type": "execute_result"
    },
    {
     "data": {
      "image/png": "[encoded data removed]",
      "text/plain": [
       "<Figure size 432x288 with 1 Axes>"
      ]
     },
     "metadata": {
      "needs_background": "light"
     },
     "output_type": "display_data"
    }
   ],
   "source": [
    "#some rough scaling- so that they fit on the same graph \n",
    "plt.plot(.00001*df_coll.groupby(['hour']).size())\n",
    "plt.plot(-.03+1/df_speeds.groupby(['hour'])['speed'].mean())\n",
    "#we are seeing that 1/speed and collision rate definitely look correlated!"
   ]
  },
  {
   "cell_type": "code",
   "execution_count": 15,
   "metadata": {},
   "outputs": [
    {
     "data": {
      "text/plain": [
       "[<matplotlib.lines.Line2D at 0x23d7fef9b38>]"
      ]
     },
     "execution_count": 15,
     "metadata": {},
     "output_type": "execute_result"
    },
    {
     "data": {
      "image/png": "[encoded data removed]",
      "text/plain": [
       "<Figure size 432x288 with 1 Axes>"
      ]
     },
     "metadata": {
      "needs_background": "light"
     },
     "output_type": "display_data"
    }
   ],
   "source": [
    "plt.plot(df_coll.groupby(['hour']).size(),df_speeds.groupby(['hour'])['speed'].mean(),'o')\n",
    "#nice correlation! More collisions at times of day when speeds are lower"
   ]
  },
  {
   "cell_type": "code",
   "execution_count": 18,
   "metadata": {},
   "outputs": [],
   "source": [
    "#Now looking at entire data set - how well can speed be predicted/ do collisions help in predicting speed?\n",
    "#grouping dataset by hour and date"
   ]
  },
  {
   "cell_type": "code",
   "execution_count": null,
   "metadata": {},
   "outputs": [],
   "source": [
    "grouped_df=df_coll.groupby(['hour','dateonly'])\n",
    "df_coll_rate=pd.DataFrame(grouped_df.size().reset_index(name = \"Coll_rate\"))"
   ]
  },
  {
   "cell_type": "code",
   "execution_count": null,
   "metadata": {},
   "outputs": [],
   "source": [
    "df_speeds_coll = pd.merge(df_speeds, df_coll_rate,  how='left', left_on=['hour','dateonly'], right_on = ['hour','dateonly'])"
   ]
  },
  {
   "cell_type": "code",
   "execution_count": null,
   "metadata": {},
   "outputs": [],
   "source": [
    "data=df_speeds_coll[['hm','id','weekday','Coll_rate']]\n",
    "data['speed']=df_speeds_coll['speed']\n",
    "data=data.dropna()\n",
    "features=data[['hm','id','weekday','Coll_rate']]\n",
    "labels=data['speed']"
   ]
  },
  {
   "cell_type": "code",
   "execution_count": null,
   "metadata": {},
   "outputs": [],
   "source": [
    "rf = RandomForestRegressor()\n",
    "#lr_regressor= GridSearchCV(lr,parameters)\n",
    "rf.fit(features,labels)"
   ]
  },
  {
   "cell_type": "code",
   "execution_count": null,
   "metadata": {},
   "outputs": [],
   "source": [
    "pred=rf.predict(features)\n"
   ]
  },
  {
   "cell_type": "code",
   "execution_count": 71,
   "metadata": {},
   "outputs": [
    {
     "data": {
      "text/plain": [
       "0.72848483376827444"
      ]
     },
     "execution_count": 71,
     "metadata": {},
     "output_type": "execute_result"
    }
   ],
   "source": [
    "slope, intercept, r_value, p_value, std_err = scipy.stats.linregress(pred,labels.values)\n",
    "r_value**2\n"
   ]
  },
  {
   "cell_type": "code",
   "execution_count": 54,
   "metadata": {},
   "outputs": [],
   "source": [
    "w=np.where(pred<60)[0]\n",
    "pred2=pred[w]\n",
    "labels2=labels.values[w]\n",
    "a1=np.linspace(0,len(pred2)-1,len(pred2)).astype(int)\n",
    "np.random.shuffle(a1)\n",
    "pred3=pred2[a1[:10000]]\n",
    "labels3=labels2[a1[:10000]]\n",
    "\n",
    "\n",
    "jointplotdata=pd.DataFrame({'predicted velocity':pred3,'actual velocity':labels3})\n"
   ]
  },
  {
   "cell_type": "code",
   "execution_count": 76,
   "metadata": {},
   "outputs": [
    {
     "data": {
      "text/plain": [
       "2077757"
      ]
     },
     "execution_count": 76,
     "metadata": {},
     "output_type": "execute_result"
    }
   ],
   "source": [
    "len(data)"
   ]
  },
  {
   "cell_type": "code",
   "execution_count": null,
   "metadata": {},
   "outputs": [],
   "source": [
    "# r squared 0.73 with collisions, 0.66 without collisions"
   ]
  },
  {
   "cell_type": "code",
   "execution_count": 55,
   "metadata": {},
   "outputs": [
    {
     "data": {
      "text/plain": [
       "<Figure size 432x288 with 0 Axes>"
      ]
     },
     "metadata": {},
     "output_type": "display_data"
    },
    {
     "data": {
      "image/png": "[encoded data removed]",
      "text/plain": [
       "<Figure size 432x432 with 3 Axes>"
      ]
     },
     "metadata": {},
     "output_type": "display_data"
    }
   ],
   "source": [
    "fig=plt.figure()\n",
    "with plt.style.context('dark_background'):\n",
    "    #with plt.style.context('seaborn-pastel'):\n",
    "    kdefig=sns.jointplot(x=\"predicted velocity\",y='actual velocity',data=jointplotdata,kind='kde',cmap='bone',color='steelblue')\n",
    "    #hexplot = sns.jointplot(x, y, kind=\"hex\")\n",
    "    #plt.subplots_adjust(left=0.2, right=0.8, top=0.8, bottom=0.2)  # shrink fig so cbar is visible\n",
    "    #cax = kdefig.fig.add_axes([.85, .25, .05, .4])  # x, y, width, height\n",
    "    #plt.colorbar(cax=cax)\n",
    "    \n",
    "    #plt.xlim(0,50)\n",
    "    #plt.ylim(0,50)\n",
    "    plt.savefig('vel-pred-coll2.pdf')"
   ]
  },
  {
   "cell_type": "code",
   "execution_count": 72,
   "metadata": {},
   "outputs": [],
   "source": [
    "#now looking at a particular day: 1-2-2018"
   ]
  },
  {
   "cell_type": "code",
   "execution_count": null,
   "metadata": {},
   "outputs": [],
   "source": [
    "df_speeds_coll_1218=df_speeds_coll.loc[df_speeds_coll['datetime'].dt.date==pd.to_datetime('2018-01-02').date()]\n"
   ]
  },
  {
   "cell_type": "code",
   "execution_count": null,
   "metadata": {},
   "outputs": [],
   "source": [
    "df_speeds_coll_1218=df_speeds_coll_1218[['hm','id','weekday','Coll_rate','speed','link_points','hour']]"
   ]
  },
  {
   "cell_type": "code",
   "execution_count": null,
   "metadata": {},
   "outputs": [],
   "source": [
    "df_speeds_coll_1218=df_speeds_coll_1218.dropna()"
   ]
  },
  {
   "cell_type": "code",
   "execution_count": null,
   "metadata": {},
   "outputs": [],
   "source": [
    "data=df_speeds_coll_1218[['hm','id','weekday','Coll_rate']]\n",
    "data['speed']=df_speeds_coll_1218['speed']\n",
    "features=data[['hm','id','weekday','Coll_rate']]\n",
    "labels=data['speed']"
   ]
  },
  {
   "cell_type": "code",
   "execution_count": null,
   "metadata": {},
   "outputs": [],
   "source": [
    "pred=rf.predict(features)\n",
    "slope, intercept, r_value, p_value, std_err = scipy.stats.linregress(pred,labels.values)\n",
    "r_value**2\n",
    "df_speeds_coll_1218['speed_pred']=pred"
   ]
  },
  {
   "cell_type": "code",
   "execution_count": 163,
   "metadata": {},
   "outputs": [
    {
     "data": {
      "text/plain": [
       "0.81554425440785172"
      ]
     },
     "execution_count": 163,
     "metadata": {},
     "output_type": "execute_result"
    }
   ],
   "source": [
    "r_value**2\n"
   ]
  },
  {
   "cell_type": "code",
   "execution_count": 164,
   "metadata": {},
   "outputs": [],
   "source": [
    "df_speeds_coll_1218['speed_pred']=pred"
   ]
  },
  {
   "cell_type": "code",
   "execution_count": 165,
   "metadata": {},
   "outputs": [
    {
     "data": {
      "text/html": [
       "<div>\n",
       "<style scoped>\n",
       "    .dataframe tbody tr th:only-of-type {\n",
       "        vertical-align: middle;\n",
       "    }\n",
       "\n",
       "    .dataframe tbody tr th {\n",
       "        vertical-align: top;\n",
       "    }\n",
       "\n",
       "    .dataframe thead th {\n",
       "        text-align: right;\n",
       "    }\n",
       "</style>\n",
       "<table border=\"1\" class=\"dataframe\">\n",
       "  <thead>\n",
       "    <tr style=\"text-align: right;\">\n",
       "      <th></th>\n",
       "      <th>hm</th>\n",
       "      <th>id</th>\n",
       "      <th>weekday</th>\n",
       "      <th>Coll_rate</th>\n",
       "      <th>speed</th>\n",
       "      <th>link_points</th>\n",
       "      <th>hour</th>\n",
       "      <th>speed_pred</th>\n",
       "    </tr>\n",
       "  </thead>\n",
       "  <tbody>\n",
       "    <tr>\n",
       "      <th>6674</th>\n",
       "      <td>2</td>\n",
       "      <td>448</td>\n",
       "      <td>1</td>\n",
       "      <td>2.0</td>\n",
       "      <td>42.87</td>\n",
       "      <td>40.77149,-73.99423 40.7719,-73.99401 40.77481,...</td>\n",
       "      <td>0</td>\n",
       "      <td>41.309048</td>\n",
       "    </tr>\n",
       "    <tr>\n",
       "      <th>6675</th>\n",
       "      <td>2</td>\n",
       "      <td>364</td>\n",
       "      <td>1</td>\n",
       "      <td>2.0</td>\n",
       "      <td>29.82</td>\n",
       "      <td>40.745726,-73.97359 40.745616,-73.97305 40.745...</td>\n",
       "      <td>0</td>\n",
       "      <td>27.666750</td>\n",
       "    </tr>\n",
       "    <tr>\n",
       "      <th>6676</th>\n",
       "      <td>2</td>\n",
       "      <td>119</td>\n",
       "      <td>1</td>\n",
       "      <td>2.0</td>\n",
       "      <td>37.90</td>\n",
       "      <td>40.70631,-74.01501 40.705380,-74.01528 40.7049...</td>\n",
       "      <td>0</td>\n",
       "      <td>35.652139</td>\n",
       "    </tr>\n",
       "    <tr>\n",
       "      <th>6677</th>\n",
       "      <td>2</td>\n",
       "      <td>124</td>\n",
       "      <td>1</td>\n",
       "      <td>2.0</td>\n",
       "      <td>41.01</td>\n",
       "      <td>40.68036,-74.00441001 40.6822,-74.0057201 40.6...</td>\n",
       "      <td>0</td>\n",
       "      <td>12.389750</td>\n",
       "    </tr>\n",
       "    <tr>\n",
       "      <th>6678</th>\n",
       "      <td>2</td>\n",
       "      <td>445</td>\n",
       "      <td>1</td>\n",
       "      <td>2.0</td>\n",
       "      <td>17.39</td>\n",
       "      <td>40.7262006,-74.01112 40.7252805,-74.01128 40.7...</td>\n",
       "      <td>0</td>\n",
       "      <td>15.243000</td>\n",
       "    </tr>\n",
       "  </tbody>\n",
       "</table>\n",
       "</div>"
      ],
      "text/plain": [
       "      hm   id  weekday  Coll_rate  speed  \\\n",
       "6674   2  448        1        2.0  42.87   \n",
       "6675   2  364        1        2.0  29.82   \n",
       "6676   2  119        1        2.0  37.90   \n",
       "6677   2  124        1        2.0  41.01   \n",
       "6678   2  445        1        2.0  17.39   \n",
       "\n",
       "                                            link_points  hour  speed_pred  \n",
       "6674  40.77149,-73.99423 40.7719,-73.99401 40.77481,...     0   41.309048  \n",
       "6675  40.745726,-73.97359 40.745616,-73.97305 40.745...     0   27.666750  \n",
       "6676  40.70631,-74.01501 40.705380,-74.01528 40.7049...     0   35.652139  \n",
       "6677  40.68036,-74.00441001 40.6822,-74.0057201 40.6...     0   12.389750  \n",
       "6678  40.7262006,-74.01112 40.7252805,-74.01128 40.7...     0   15.243000  "
      ]
     },
     "execution_count": 165,
     "metadata": {},
     "output_type": "execute_result"
    }
   ],
   "source": [
    "df_speeds_coll_1218.head()"
   ]
  },
  {
   "cell_type": "code",
   "execution_count": null,
   "metadata": {},
   "outputs": [],
   "source": [
    "df_speeds_coll_1218.to_csv('df_speeds_coll_1218',index=False)"
   ]
  },
  {
   "cell_type": "code",
   "execution_count": 90,
   "metadata": {},
   "outputs": [],
   "source": [
    "#now for Open Street Maps stuff!"
   ]
  },
  {
   "cell_type": "code",
   "execution_count": 166,
   "metadata": {},
   "outputs": [],
   "source": [
    "df_speeds_coll_1218['id']=np.array(df_speeds_coll_1218.id.values,dtype=int)"
   ]
  },
  {
   "cell_type": "code",
   "execution_count": 167,
   "metadata": {},
   "outputs": [],
   "source": [
    "\n",
    "grouped_df=df_speeds_coll_1218.groupby(['link_points'])\n",
    "df_id_lp=pd.DataFrame(grouped_df.mean().reset_index())"
   ]
  },
  {
   "cell_type": "code",
   "execution_count": 168,
   "metadata": {},
   "outputs": [
    {
     "data": {
      "text/plain": [
       "219.54166666666666"
      ]
     },
     "execution_count": 168,
     "metadata": {},
     "output_type": "execute_result"
    }
   ],
   "source": [
    "len(df_speeds_coll_1218['hour'])/24"
   ]
  },
  {
   "cell_type": "code",
   "execution_count": 172,
   "metadata": {},
   "outputs": [],
   "source": [
    "grouped_df=df_speeds_coll_1218.groupby(['link_points','hour'])\n",
    "df_speeds_coll_1218_g=pd.DataFrame(grouped_df.mean().reset_index())"
   ]
  },
  {
   "cell_type": "code",
   "execution_count": 176,
   "metadata": {},
   "outputs": [
    {
     "data": {
      "text/plain": [
       "446"
      ]
     },
     "execution_count": 176,
     "metadata": {},
     "output_type": "execute_result"
    }
   ],
   "source": [
    "len(df_speeds_coll_1218_g)"
   ]
  },
  {
   "cell_type": "code",
   "execution_count": 185,
   "metadata": {},
   "outputs": [],
   "source": [
    "dfNodes = df_speeds_coll_1218_g[['id', 'link_points']]\n",
    "manhattan=G"
   ]
  },
  {
   "cell_type": "code",
   "execution_count": 196,
   "metadata": {},
   "outputs": [
    {
     "data": {
      "text/plain": [
       "4779"
      ]
     },
     "execution_count": 196,
     "metadata": {},
     "output_type": "execute_result"
    }
   ],
   "source": [
    "len(idNodes)"
   ]
  },
  {
   "cell_type": "code",
   "execution_count": 186,
   "metadata": {},
   "outputs": [
    {
     "name": "stderr",
     "output_type": "stream",
     "text": [
      "C:\\Users\\Skanda\\Anaconda3\\lib\\site-packages\\ipykernel_launcher.py:2: SettingWithCopyWarning: \n",
      "A value is trying to be set on a copy of a slice from a DataFrame.\n",
      "Try using .loc[row_indexer,col_indexer] = value instead\n",
      "\n",
      "See the caveats in the documentation: http://pandas.pydata.org/pandas-docs/stable/indexing.html#indexing-view-versus-copy\n",
      "  \n",
      "C:\\Users\\Skanda\\Anaconda3\\lib\\site-packages\\ipykernel_launcher.py:24: DeprecationWarning: \n",
      ".ix is deprecated. Please use\n",
      ".loc for label based indexing or\n",
      ".iloc for positional indexing\n",
      "\n",
      "See the documentation here:\n",
      "http://pandas.pydata.org/pandas-docs/stable/indexing.html#ix-indexer-is-deprecated\n",
      "C:\\Users\\Skanda\\Anaconda3\\lib\\site-packages\\ipykernel_launcher.py:25: DeprecationWarning: \n",
      ".ix is deprecated. Please use\n",
      ".loc for label based indexing or\n",
      ".iloc for positional indexing\n",
      "\n",
      "See the documentation here:\n",
      "http://pandas.pydata.org/pandas-docs/stable/indexing.html#ix-indexer-is-deprecated\n",
      "C:\\Users\\Skanda\\Anaconda3\\lib\\site-packages\\osmnx\\utils.py:382: RuntimeWarning: invalid value encountered in minimum\n",
      "  h = np.minimum(1.0, h) # protect against floating point errors\n"
     ]
    },
    {
     "data": {
      "text/html": [
       "<div>\n",
       "<style scoped>\n",
       "    .dataframe tbody tr th:only-of-type {\n",
       "        vertical-align: middle;\n",
       "    }\n",
       "\n",
       "    .dataframe tbody tr th {\n",
       "        vertical-align: top;\n",
       "    }\n",
       "\n",
       "    .dataframe thead th {\n",
       "        text-align: right;\n",
       "    }\n",
       "</style>\n",
       "<table border=\"1\" class=\"dataframe\">\n",
       "  <thead>\n",
       "    <tr style=\"text-align: right;\">\n",
       "      <th></th>\n",
       "      <th>id</th>\n",
       "      <th>Latitude</th>\n",
       "      <th>Longitude</th>\n",
       "      <th>Node</th>\n",
       "    </tr>\n",
       "  </thead>\n",
       "  <tbody>\n",
       "    <tr>\n",
       "      <th>0</th>\n",
       "      <td>124.0</td>\n",
       "      <td>40.680360</td>\n",
       "      <td>-74.00441</td>\n",
       "      <td>4.145735e+09</td>\n",
       "    </tr>\n",
       "    <tr>\n",
       "      <th>2</th>\n",
       "      <td>124.0</td>\n",
       "      <td>40.683700</td>\n",
       "      <td>-74.00644</td>\n",
       "      <td>3.708807e+08</td>\n",
       "    </tr>\n",
       "    <tr>\n",
       "      <th>4</th>\n",
       "      <td>124.0</td>\n",
       "      <td>40.694120</td>\n",
       "      <td>-74.01288</td>\n",
       "      <td>6.079114e+08</td>\n",
       "    </tr>\n",
       "    <tr>\n",
       "      <th>7</th>\n",
       "      <td>124.0</td>\n",
       "      <td>40.703434</td>\n",
       "      <td>-74.01561</td>\n",
       "      <td>4.244435e+07</td>\n",
       "    </tr>\n",
       "    <tr>\n",
       "      <th>8</th>\n",
       "      <td>124.0</td>\n",
       "      <td>40.704990</td>\n",
       "      <td>-74.01519</td>\n",
       "      <td>5.885468e+08</td>\n",
       "    </tr>\n",
       "  </tbody>\n",
       "</table>\n",
       "</div>"
      ],
      "text/plain": [
       "      id   Latitude  Longitude          Node\n",
       "0  124.0  40.680360  -74.00441  4.145735e+09\n",
       "2  124.0  40.683700  -74.00644  3.708807e+08\n",
       "4  124.0  40.694120  -74.01288  6.079114e+08\n",
       "7  124.0  40.703434  -74.01561  4.244435e+07\n",
       "8  124.0  40.704990  -74.01519  5.885468e+08"
      ]
     },
     "execution_count": 186,
     "metadata": {},
     "output_type": "execute_result"
    }
   ],
   "source": [
    "# Splitting the column containing all Lat/Long combinations\n",
    "dfNodes['splitPoints'] = dfNodes['link_points'].apply(lambda x: x.split(' '))\n",
    "\n",
    "# Reshaping our data frame to have a row for each Lat/Long point\n",
    "idNodes = []\n",
    "for x,y in zip(dfNodes['splitPoints'], dfNodes['id']):\n",
    "    for a in np.arange(len(x)):\n",
    "        idNodes.append((y, x[a]))\n",
    "dfNodes = pd.DataFrame(idNodes, columns=['id', 'LatLong'])\n",
    "\n",
    "dfNodes = dfNodes.replace('', np.NaN).dropna()\n",
    "\n",
    "# Parsing Lat/Long into individual columns\n",
    "# Longitude has an if statement since some records contain '-' for longitude\n",
    "dfNodes['Latitude'] = dfNodes['LatLong'].apply(lambda x: x.split(',')[0])\n",
    "dfNodes['Longitude'] = dfNodes['LatLong'] \\\n",
    "    .apply(lambda x: x.split(',')[1] if len(x.split(',')) > 1 else None)\n",
    "\n",
    "# Dropping incorrect longitude records and converting everything to floats\n",
    "dfNodes = dfNodes[dfNodes['Longitude'] != '-'][['id', 'Latitude', 'Longitude']].astype(float)\n",
    "\n",
    "# Obtaining the nearest nodes in the network from the Lat/Long points\n",
    "nodes = []\n",
    "for row in dfNodes.iterrows():\n",
    "    nearest_node = ox.get_nearest_node(manhattan, (dfNodes['Latitude'].ix[row], \n",
    "                                                   dfNodes['Longitude'].ix[row]))\n",
    "    nodes.append(nearest_node)\n",
    "dfNodes['Node'] = nodes\n",
    "\n",
    "# Removing duplicate nodes\n",
    "dfNodes.drop_duplicates(subset='Node', inplace=True)\n",
    "\n",
    "dfNodes.head()"
   ]
  },
  {
   "cell_type": "code",
   "execution_count": 192,
   "metadata": {},
   "outputs": [
    {
     "data": {
      "text/plain": [
       "24"
      ]
     },
     "execution_count": 192,
     "metadata": {},
     "output_type": "execute_result"
    }
   ],
   "source": [
    "len(np.unique(df_speeds_coll_1218_g['id'].values))"
   ]
  },
  {
   "cell_type": "code",
   "execution_count": 197,
   "metadata": {},
   "outputs": [],
   "source": [
    "#trying...."
   ]
  },
  {
   "cell_type": "code",
   "execution_count": 204,
   "metadata": {},
   "outputs": [
    {
     "name": "stderr",
     "output_type": "stream",
     "text": [
      "C:\\Users\\Skanda\\Anaconda3\\lib\\site-packages\\ipykernel_launcher.py:2: SettingWithCopyWarning: \n",
      "A value is trying to be set on a copy of a slice from a DataFrame.\n",
      "Try using .loc[row_indexer,col_indexer] = value instead\n",
      "\n",
      "See the caveats in the documentation: http://pandas.pydata.org/pandas-docs/stable/indexing.html#indexing-view-versus-copy\n",
      "  \n",
      "C:\\Users\\Skanda\\Anaconda3\\lib\\site-packages\\ipykernel_launcher.py:3: SettingWithCopyWarning: \n",
      "A value is trying to be set on a copy of a slice from a DataFrame.\n",
      "Try using .loc[row_indexer,col_indexer] = value instead\n",
      "\n",
      "See the caveats in the documentation: http://pandas.pydata.org/pandas-docs/stable/indexing.html#indexing-view-versus-copy\n",
      "  This is separate from the ipykernel package so we can avoid doing imports until\n"
     ]
    },
    {
     "data": {
      "text/plain": [
       "154"
      ]
     },
     "execution_count": 204,
     "metadata": {},
     "output_type": "execute_result"
    }
   ],
   "source": [
    "df=df_speeds_coll_1218_g.loc[df_speeds_coll_1218_g['hour']==16]\n",
    "df['id'] = df['id'].astype(float)\n",
    "df['id'] = df['id'].astype(float)\n",
    "df = df.merge(dfNodes, on ='id')\n",
    "len(df)"
   ]
  },
  {
   "cell_type": "code",
   "execution_count": null,
   "metadata": {},
   "outputs": [],
   "source": []
  },
  {
   "cell_type": "code",
   "execution_count": null,
   "metadata": {},
   "outputs": [
    {
     "name": "stderr",
     "output_type": "stream",
     "text": [
      "C:\\Users\\Skanda\\Anaconda3\\lib\\site-packages\\ipykernel_launcher.py:12: DeprecationWarning: \n",
      ".ix is deprecated. Please use\n",
      ".loc for label based indexing or\n",
      ".iloc for positional indexing\n",
      "\n",
      "See the documentation here:\n",
      "http://pandas.pydata.org/pandas-docs/stable/indexing.html#ix-indexer-is-deprecated\n",
      "  if sys.path[0] == '':\n",
      "C:\\Users\\Skanda\\Anaconda3\\lib\\site-packages\\ipykernel_launcher.py:13: DeprecationWarning: \n",
      ".ix is deprecated. Please use\n",
      ".loc for label based indexing or\n",
      ".iloc for positional indexing\n",
      "\n",
      "See the documentation here:\n",
      "http://pandas.pydata.org/pandas-docs/stable/indexing.html#ix-indexer-is-deprecated\n",
      "  del sys.path[0]\n"
     ]
    }
   ],
   "source": [
    "\n",
    "        # Merging in the nodes\n",
    "df['id'] = df['id'].astype(float)  # Converting for the merge\n",
    "df = df.merge(dfNodes, on ='id')\n",
    "\n",
    "        # Mapping the nodes to speed categories\n",
    "df['speed'] = df['speed'].astype(float)\n",
    "slow = []\n",
    "medium = []\n",
    "fast = []\n",
    "for row in df.iterrows():\n",
    "    speed = df['speed'].ix[row]\n",
    "    node = df['Node'].ix[row]\n",
    "    \n"
   ]
  },
  {
   "cell_type": "code",
   "execution_count": null,
   "metadata": {},
   "outputs": [],
   "source": [
    "            # Speeds in MPH\n",
    "    if speed >= 40:\n",
    "        fast.append(node)\n",
    "    if speed < 40 and speed >= 20:\n",
    "        medium.append(node)\n",
    "    if speed < 20:\n",
    "        slow.append(node)\n",
    "        \n",
    "        # Setting the node color based on the speed categories\n",
    "nc = ['g' if node in fast\n",
    "        else ('y' if node in medium\n",
    "        else ('r' if node in slow \n",
    "        else 'None'))\n",
    "        for node in manhattan.nodes()]\n",
    "\n",
    "        # Timestamp\n",
    "\n",
    "        # Plotting the map\n",
    "        #fig, ax = ox.plot_graph(manhattan_projected, fig_height=10, node_size=8, \n",
    "         #                       node_alpha=1,edge_linewidth=0.2, dpi=100, node_color=nc)"
   ]
  },
  {
   "cell_type": "code",
   "execution_count": null,
   "metadata": {},
   "outputs": [],
   "source": [
    "fig, ax = ox.plot_graph(manhattan_projected, fig_height=10, node_size=8, \n",
    "         #                       node_alpha=1,edge_linewidth=0.2, dpi=100, node_color=nc)"
   ]
  }
 ],
 "metadata": {
  "kernelspec": {
   "display_name": "Python 3",
   "language": "python",
   "name": "python3"
  },
  "language_info": {
   "codemirror_mode": {
    "name": "ipython",
    "version": 3
   },
   "file_extension": ".py",
   "mimetype": "text/x-python",
   "name": "python",
   "nbconvert_exporter": "python",
   "pygments_lexer": "ipython3",
   "version": "3.7.0"
  }
 },
 "nbformat": 4,
 "nbformat_minor": 2
}
