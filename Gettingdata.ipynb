{
 "cells": [
  {
   "cell_type": "code",
   "execution_count": 1,
   "metadata": {},
   "outputs": [],
   "source": [
    "import pandas as pd\n",
    "import numpy as np\n",
    "import os\n",
    "from sodapy import Socrata\n",
    "\n",
    "%matplotlib inline"
   ]
  },
  {
   "cell_type": "code",
   "execution_count": 2,
   "metadata": {},
   "outputs": [],
   "source": [
    "#get relevant collisions & speeds data from 2018"
   ]
  },
  {
   "cell_type": "code",
   "execution_count": 3,
   "metadata": {},
   "outputs": [],
   "source": [
    "query = \"\"\"\n",
    "select *\n",
    "\n",
    "where\n",
    "date<'2019-01-01T00:00:00.000'\n",
    "and\n",
    "date>='2018-01-01T00:00:00.000'\n",
    "\n",
    "and\n",
    "borough='MANHATTAN'\n",
    "\n",
    "\n",
    "\n",
    "limit\n",
    "    50000000000\n",
    "\"\"\""
   ]
  },
  {
   "cell_type": "code",
   "execution_count": 4,
   "metadata": {},
   "outputs": [
    {
     "name": "stderr",
     "output_type": "stream",
     "text": [
      "WARNING:root:Requests made without an app_token will be subject to strict throttling limits.\n"
     ]
    }
   ],
   "source": [
    "#SQL querying collisions data from Socrata\n",
    "client = Socrata(\"data.cityofnewyork.us\", None)\n",
    "results = client.get(\"qiz3-axqb\", query=query)\n",
    "\n",
    "# Convert to pandas DataFrame\n",
    "results_df = pd.DataFrame.from_records(results)"
   ]
  },
  {
   "cell_type": "code",
   "execution_count": 5,
   "metadata": {},
   "outputs": [],
   "source": [
    "query = \"\"\"\n",
    "select *\n",
    "\n",
    "where\n",
    "data_as_of<'2019-01-01T00:00:00.000'\n",
    "and\n",
    "data_as_of>='2018-01-01T00:00:00.000'\n",
    "and\n",
    "borough='Manhattan'\n",
    "and\n",
    "speed is not null\n",
    "and\n",
    "link_points is not null\n",
    "\n",
    "\n",
    "limit\n",
    "    50000000000\n",
    "\"\"\""
   ]
  },
  {
   "cell_type": "code",
   "execution_count": 6,
   "metadata": {},
   "outputs": [
    {
     "name": "stderr",
     "output_type": "stream",
     "text": [
      "WARNING:root:Requests made without an app_token will be subject to strict throttling limits.\n"
     ]
    }
   ],
   "source": [
    "#now for speeds data from Socrata again\n",
    "client = Socrata(\"data.cityofnewyork.us\", None)\n",
    "#results = client.get(\"i4gi-tjb9\", where=\"data_as_of='2017-10-19T06:58:30.000'\",limit=2000000)\n",
    "results = client.get(\"i4gi-tjb9\", query=query)\n",
    "\n",
    "# Convert to pandas DataFrame\n",
    "results_df2 = pd.DataFrame.from_records(results)"
   ]
  },
  {
   "cell_type": "code",
   "execution_count": 7,
   "metadata": {},
   "outputs": [],
   "source": [
    "df_speeds=results_df2.copy()\n",
    "df_coll=results_df.copy()"
   ]
  },
  {
   "cell_type": "code",
   "execution_count": 10,
   "metadata": {},
   "outputs": [],
   "source": [
    "#converting everything to proper date time format"
   ]
  },
  {
   "cell_type": "code",
   "execution_count": 11,
   "metadata": {},
   "outputs": [],
   "source": [
    "df_coll['datetime']=pd.to_datetime(df_coll['date'].astype(str)+' '+df_coll['time'].astype(str))\n",
    "df_speeds['datetime']=pd.to_datetime(df_speeds['data_as_of'])"
   ]
  },
  {
   "cell_type": "code",
   "execution_count": 12,
   "metadata": {},
   "outputs": [],
   "source": [
    "df_coll['hour']=df_coll['datetime'].dt.hour\n",
    "df_speeds['hour']=df_speeds['datetime'].dt.hour\n",
    "df_speeds['speed']=np.array(df_speeds['speed'].values,dtype=float)\n",
    "df_speeds=df_speeds.loc[df_speeds['speed']>0]"
   ]
  },
  {
   "cell_type": "code",
   "execution_count": 13,
   "metadata": {},
   "outputs": [],
   "source": [
    "df_speeds['hm']=df_speeds['hour']*60+df_speeds['datetime'].dt.minute\n",
    "df_coll['hm']=df_coll['hour']*60+df_coll['datetime'].dt.minute\n",
    "df_coll['dateonly']=df_coll['datetime'].dt.date\n",
    "df_speeds['dateonly']=df_speeds['datetime'].dt.date\n",
    "df_speeds['weekday']=df_speeds['datetime'].dt.dayofweek\n",
    "df_coll['weekday']=df_coll['datetime'].dt.dayofweek\n"
   ]
  },
  {
   "cell_type": "code",
   "execution_count": 24,
   "metadata": {},
   "outputs": [],
   "source": [
    "df_coll.to_csv('df_coll.csv',index=False)"
   ]
  },
  {
   "cell_type": "code",
   "execution_count": 14,
   "metadata": {},
   "outputs": [
    {
     "data": {
      "text/plain": [
       "Index(['borough', 'contributing_factor_vehicle_1',\n",
       "       'contributing_factor_vehicle_2', 'contributing_factor_vehicle_3',\n",
       "       'contributing_factor_vehicle_4', 'contributing_factor_vehicle_5',\n",
       "       'cross_street_name', 'date', 'latitude', 'location', 'longitude',\n",
       "       'number_of_cyclist_injured', 'number_of_cyclist_killed',\n",
       "       'number_of_motorist_injured', 'number_of_motorist_killed',\n",
       "       'number_of_pedestrians_injured', 'number_of_pedestrians_killed',\n",
       "       'number_of_persons_injured', 'number_of_persons_killed',\n",
       "       'off_street_name', 'on_street_name', 'time', 'unique_key',\n",
       "       'vehicle_type_code1', 'vehicle_type_code2', 'vehicle_type_code_3',\n",
       "       'vehicle_type_code_4', 'vehicle_type_code_5', 'zip_code', 'datetime',\n",
       "       'hour', 'hm', 'dateonly', 'weekday'],\n",
       "      dtype='object')"
      ]
     },
     "execution_count": 14,
     "metadata": {},
     "output_type": "execute_result"
    }
   ],
   "source": [
    "df_coll.columns"
   ]
  },
  {
   "cell_type": "code",
   "execution_count": 15,
   "metadata": {},
   "outputs": [],
   "source": [
    "#Grouping columns to get rate of collisions per hour\n",
    "\n",
    "grouped_df=df_coll.groupby(['hour','dateonly'])\n",
    "df_coll_rate=pd.DataFrame(grouped_df.size().reset_index(name = \"Coll_rate\"))"
   ]
  },
  {
   "cell_type": "code",
   "execution_count": 17,
   "metadata": {},
   "outputs": [],
   "source": [
    "#merging the collisions and speed datasets, grouped by hour and date"
   ]
  },
  {
   "cell_type": "code",
   "execution_count": 18,
   "metadata": {},
   "outputs": [],
   "source": [
    "df_speeds_coll = pd.merge(df_speeds, df_coll_rate,  how='left', left_on=['hour','dateonly'], right_on = ['hour','dateonly'])"
   ]
  },
  {
   "cell_type": "code",
   "execution_count": 19,
   "metadata": {},
   "outputs": [
    {
     "name": "stderr",
     "output_type": "stream",
     "text": [
      "C:\\Users\\Skanda\\Anaconda3\\lib\\site-packages\\ipykernel_launcher.py:2: SettingWithCopyWarning: \n",
      "A value is trying to be set on a copy of a slice from a DataFrame.\n",
      "Try using .loc[row_indexer,col_indexer] = value instead\n",
      "\n",
      "See the caveats in the documentation: http://pandas.pydata.org/pandas-docs/stable/indexing.html#indexing-view-versus-copy\n",
      "  \n"
     ]
    }
   ],
   "source": [
    "data=df_speeds_coll[['hm','id','weekday','Coll_rate','hour','dateonly','link_points']]\n",
    "data['speed']=df_speeds_coll['speed']\n",
    "data2=data.dropna()\n",
    "features=data2[['hm','id','weekday','Coll_rate']]\n",
    "labels=data2['speed']"
   ]
  },
  {
   "cell_type": "code",
   "execution_count": 22,
   "metadata": {},
   "outputs": [
    {
     "data": {
      "text/html": [
       "<div>\n",
       "<style scoped>\n",
       "    .dataframe tbody tr th:only-of-type {\n",
       "        vertical-align: middle;\n",
       "    }\n",
       "\n",
       "    .dataframe tbody tr th {\n",
       "        vertical-align: top;\n",
       "    }\n",
       "\n",
       "    .dataframe thead th {\n",
       "        text-align: right;\n",
       "    }\n",
       "</style>\n",
       "<table border=\"1\" class=\"dataframe\">\n",
       "  <thead>\n",
       "    <tr style=\"text-align: right;\">\n",
       "      <th></th>\n",
       "      <th>hm</th>\n",
       "      <th>id</th>\n",
       "      <th>weekday</th>\n",
       "      <th>Coll_rate</th>\n",
       "      <th>hour</th>\n",
       "      <th>dateonly</th>\n",
       "      <th>link_points</th>\n",
       "      <th>speed</th>\n",
       "    </tr>\n",
       "  </thead>\n",
       "  <tbody>\n",
       "    <tr>\n",
       "      <th>0</th>\n",
       "      <td>2</td>\n",
       "      <td>448</td>\n",
       "      <td>0</td>\n",
       "      <td>3.0</td>\n",
       "      <td>0</td>\n",
       "      <td>2018-01-01</td>\n",
       "      <td>40.77149,-73.99423 40.7719,-73.99401 40.77481,...</td>\n",
       "      <td>39.76</td>\n",
       "    </tr>\n",
       "    <tr>\n",
       "      <th>1</th>\n",
       "      <td>2</td>\n",
       "      <td>330</td>\n",
       "      <td>0</td>\n",
       "      <td>3.0</td>\n",
       "      <td>0</td>\n",
       "      <td>2018-01-01</td>\n",
       "      <td>40.75719,-73.99724 40.76017,-74.00382 40.76185...</td>\n",
       "      <td>41.01</td>\n",
       "    </tr>\n",
       "    <tr>\n",
       "      <th>2</th>\n",
       "      <td>2</td>\n",
       "      <td>364</td>\n",
       "      <td>0</td>\n",
       "      <td>3.0</td>\n",
       "      <td>0</td>\n",
       "      <td>2018-01-01</td>\n",
       "      <td>40.745726,-73.97359 40.745616,-73.97305 40.745...</td>\n",
       "      <td>36.03</td>\n",
       "    </tr>\n",
       "    <tr>\n",
       "      <th>3</th>\n",
       "      <td>2</td>\n",
       "      <td>119</td>\n",
       "      <td>0</td>\n",
       "      <td>3.0</td>\n",
       "      <td>0</td>\n",
       "      <td>2018-01-01</td>\n",
       "      <td>40.70631,-74.01501 40.705380,-74.01528 40.7049...</td>\n",
       "      <td>37.28</td>\n",
       "    </tr>\n",
       "    <tr>\n",
       "      <th>4</th>\n",
       "      <td>2</td>\n",
       "      <td>124</td>\n",
       "      <td>0</td>\n",
       "      <td>3.0</td>\n",
       "      <td>0</td>\n",
       "      <td>2018-01-01</td>\n",
       "      <td>40.68036,-74.00441001 40.6822,-74.0057201 40.6...</td>\n",
       "      <td>36.66</td>\n",
       "    </tr>\n",
       "  </tbody>\n",
       "</table>\n",
       "</div>"
      ],
      "text/plain": [
       "   hm   id  weekday  Coll_rate  hour    dateonly  \\\n",
       "0   2  448        0        3.0     0  2018-01-01   \n",
       "1   2  330        0        3.0     0  2018-01-01   \n",
       "2   2  364        0        3.0     0  2018-01-01   \n",
       "3   2  119        0        3.0     0  2018-01-01   \n",
       "4   2  124        0        3.0     0  2018-01-01   \n",
       "\n",
       "                                         link_points  speed  \n",
       "0  40.77149,-73.99423 40.7719,-73.99401 40.77481,...  39.76  \n",
       "1  40.75719,-73.99724 40.76017,-74.00382 40.76185...  41.01  \n",
       "2  40.745726,-73.97359 40.745616,-73.97305 40.745...  36.03  \n",
       "3  40.70631,-74.01501 40.705380,-74.01528 40.7049...  37.28  \n",
       "4  40.68036,-74.00441001 40.6822,-74.0057201 40.6...  36.66  "
      ]
     },
     "execution_count": 22,
     "metadata": {},
     "output_type": "execute_result"
    }
   ],
   "source": [
    "data2.head()"
   ]
  },
  {
   "cell_type": "code",
   "execution_count": 23,
   "metadata": {},
   "outputs": [],
   "source": [
    "data3=data2.groupby(['hour','dateonly','link_points','id']).mean().reset_index()\n",
    "data3.to_csv('data3.csv',index=False)"
   ]
  },
  {
   "cell_type": "code",
   "execution_count": null,
   "metadata": {},
   "outputs": [],
   "source": []
  }
 ],
 "metadata": {
  "kernelspec": {
   "display_name": "Python 3",
   "language": "python",
   "name": "python3"
  },
  "language_info": {
   "codemirror_mode": {
    "name": "ipython",
    "version": 3
   },
   "file_extension": ".py",
   "mimetype": "text/x-python",
   "name": "python",
   "nbconvert_exporter": "python",
   "pygments_lexer": "ipython3",
   "version": "3.7.0"
  }
 },
 "nbformat": 4,
 "nbformat_minor": 2
}
